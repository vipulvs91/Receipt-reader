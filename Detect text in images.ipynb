{
 "cells": [
  {
   "cell_type": "code",
   "execution_count": 2,
   "metadata": {},
   "outputs": [
    {
     "name": "stdout",
     "output_type": "stream",
     "text": [
      "SWAD S0OJI7LB\n",
      "MOONG WHOLIE 7ZL.E\n",
      "S POHA THI420Z.\n",
      "S MAMRA 140Z\n",
      "YELLOW ONION10.B\n",
      "YELLOW ONION10.B\n",
      "RED ONION 10 LE\n",
      "ASHIRWAD ATA104G\n",
      "ASHIRWAD ATA104G\n",
      "SONA MASORI 20.\n",
      "SONA MASORII 20.\n",
      "SONA MASORI 20.\n",
      "SWAD MAIDA 7LE!\n",
      "@ $3.99 EACH\n",
      "GARLIC\n",
      "MOONG DAL 7LBS\n",
      "TOOR DAL 7LB\n",
      "KABULI CHANA 7.B\n",
      "$5.99\n",
      "$10.99\n",
      "$3.99\n",
      "$2.49\n",
      "$3.99\n",
      "$3.99\n",
      "$5.99\n",
      "$10.99\n",
      "$10.99\n",
      "$15.99\n",
      "$15.99\n",
      "$15.99\n",
      "$5.99\n",
      "$11.97\n",
      "$10.99\n",
      "$10.99\n",
      "$9.99\n",
      "\n",
      "{'vertices': [{'x': 43, 'y': 5}, {'x': 861, 'y': 5}, {'x': 861, 'y': 1002}, {'x': 43, 'y': 1002}]}\n"
     ]
    }
   ],
   "source": [
    "from base64 import b64encode\n",
    "\n",
    "import googleapiclient.discovery\n",
    "from oauth2client.client import GoogleCredentials\n",
    "\n",
    "# Change this values to match your project\n",
    "IMAGE_FILE = \"PBJune2.jpg\"\n",
    "CREDENTIALS_FILE = \"credentials.json\"\n",
    "\n",
    "# Connect to the Google Cloud-ML Service\n",
    "credentials = GoogleCredentials.from_stream(CREDENTIALS_FILE)\n",
    "service = googleapiclient.discovery.build('vision', 'v1', credentials=credentials)\n",
    "\n",
    "# Read file and convert it to a base64 encoding\n",
    "with open(IMAGE_FILE, \"rb\") as f:\n",
    "    image_data = f.read()\n",
    "    encoded_image_data = b64encode(image_data).decode('UTF-8')\n",
    "\n",
    "# Create the request object for the Google Vision API\n",
    "batch_request = [{\n",
    "    'image': {\n",
    "        'content': encoded_image_data\n",
    "    },\n",
    "    'features': [\n",
    "        {\n",
    "            'type': 'TEXT_DETECTION'\n",
    "        }\n",
    "    ]\n",
    "}]\n",
    "request = service.images().annotate(body={'requests': batch_request})\n",
    "\n",
    "# Send the request to Google\n",
    "response = request.execute()\n",
    "\n",
    "# Check for errors\n",
    "if 'error' in response:\n",
    "    raise RuntimeError(response['error'])\n",
    "\n",
    "# Print the results\n",
    "extracted_texts = response['responses'][0]['textAnnotations']\n",
    "\n",
    "# Print the first piece of text found in the image\n",
    "extracted_text = extracted_texts[0]\n",
    "print(extracted_text['description'])\n",
    "\n",
    "# Print the location where the text was detected\n",
    "print(extracted_text['boundingPoly'])"
   ]
  },
  {
   "cell_type": "code",
   "execution_count": null,
   "metadata": {},
   "outputs": [],
   "source": []
  },
  {
   "cell_type": "code",
   "execution_count": null,
   "metadata": {},
   "outputs": [],
   "source": []
  }
 ],
 "metadata": {
  "kernelspec": {
   "display_name": "Python 3",
   "language": "python",
   "name": "python3"
  },
  "language_info": {
   "codemirror_mode": {
    "name": "ipython",
    "version": 3
   },
   "file_extension": ".py",
   "mimetype": "text/x-python",
   "name": "python",
   "nbconvert_exporter": "python",
   "pygments_lexer": "ipython3",
   "version": "3.7.6"
  }
 },
 "nbformat": 4,
 "nbformat_minor": 4
}
